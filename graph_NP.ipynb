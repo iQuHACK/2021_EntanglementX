{
 "cells": [
  {
   "cell_type": "code",
   "execution_count": 6,
   "metadata": {},
   "outputs": [],
   "source": [
    "#import Aer here, before calling qiskit_ionq_provider\n",
    "from qiskit import Aer\n",
    "\n",
    "# from qiskit_ionq_provider import IonQProvider \n",
    "\n",
    "#Call provider and set token value\n",
    "# provider = IonQProvider(token='UXA0mTBVroG62waNXpn6yCXDyx2iDNH0')"
   ]
  },
  {
   "cell_type": "code",
   "execution_count": 7,
   "metadata": {},
   "outputs": [
    {
     "output_type": "stream",
     "name": "stdout",
     "text": [
      "{(0, 0): {(1, 0): {}, (0, 1): {}}, (0, 1): {(0, 0): {}, (1, 1): {}, (0, 2): {}}, (0, 2): {(0, 1): {}, (1, 2): {}, (0, 3): {}}, (0, 3): {(0, 2): {}, (1, 3): {}, (0, 4): {}}, (0, 4): {(0, 3): {}, (1, 4): {}}, (1, 0): {(0, 0): {}, (2, 0): {}, (1, 1): {}}, (1, 1): {(0, 1): {}, (1, 0): {}, (2, 1): {}, (1, 2): {}}, (1, 2): {(0, 2): {}, (1, 1): {}, (2, 2): {}, (1, 3): {}}, (1, 3): {(0, 3): {}, (1, 2): {}, (2, 3): {}, (1, 4): {}}, (1, 4): {(0, 4): {}, (1, 3): {}, (2, 4): {}}, (2, 0): {(1, 0): {}, (3, 0): {}, (2, 1): {}}, (2, 1): {(1, 1): {}, (2, 0): {}, (3, 1): {}, (2, 2): {}}, (2, 2): {(1, 2): {}, (2, 1): {}, (3, 2): {}, (2, 3): {}}, (2, 3): {(1, 3): {}, (2, 2): {}, (3, 3): {}, (2, 4): {}}, (2, 4): {(1, 4): {}, (2, 3): {}, (3, 4): {}}, (3, 0): {(2, 0): {}, (4, 0): {}, (3, 1): {}}, (3, 1): {(2, 1): {}, (3, 0): {}, (4, 1): {}, (3, 2): {}}, (3, 2): {(2, 2): {}, (3, 1): {}, (4, 2): {}, (3, 3): {}}, (3, 3): {(2, 3): {}, (3, 2): {}, (4, 3): {}, (3, 4): {}}, (3, 4): {(2, 4): {}, (3, 3): {}, (4, 4): {}}, (4, 0): {(3, 0): {}, (4, 1): {}}, (4, 1): {(3, 1): {}, (4, 0): {}, (4, 2): {}}, (4, 2): {(3, 2): {}, (4, 1): {}, (4, 3): {}}, (4, 3): {(3, 3): {}, (4, 2): {}, (4, 4): {}}, (4, 4): {(3, 4): {}, (4, 3): {}}}\n0\n(25, 40)\n"
     ]
    }
   ],
   "source": [
    "import networkx as nx\n",
    "\n",
    "#returns neighbors of node v\n",
    "def get_neighbors(adj_lst,v):\n",
    "    return [key for key in adj_lst[v]]\n",
    "    \n",
    "# Finds the degree of freedom for outgoing edge from v to u\n",
    "def find_deg_of_freedom(adj_lst,v,u):\n",
    "    neighbors = get_neighbors(adj_lst,v)\n",
    "    if u in neighbors:\n",
    "        return neighbors.index(u)\n",
    "    else:\n",
    "        return -1\n",
    "# Returns number of ndoes and edges in a graph\n",
    "def find_no_of_nodes_and_edges(G):\n",
    "    return G.number_of_nodes(), G.number_of_edges()\n",
    "\n",
    "# m: Number of rows, n: number of columns\n",
    "m = n = 5\n",
    "#Generate a grid graph\n",
    "G=nx.grid_graph(dim=[m,n])\n",
    "adj_lst = nx.to_dict_of_dicts(G)\n",
    "\n",
    "# nx.draw(G)\n",
    "\n",
    "print(adj_lst)    \n",
    "print(find_deg_of_freedom(adj_lst,(0,0),(1,0)))\n",
    "print(find_no_of_nodes_and_edges(G))"
   ]
  },
  {
   "cell_type": "code",
   "execution_count": 8,
   "metadata": {},
   "outputs": [
    {
     "output_type": "execute_result",
     "data": {
      "text/plain": [
       "     ┌───┐      ░      ┌───┐           ░                      ░                »\n",
       "q_0: ┤ X ├──────░──────┤ X ├───────────░──────────────────────░────────────────»\n",
       "     └─┬─┘┌───┐ ░ ┌───┐└─┬─┘┌───┐┌───┐ ░                      ░                »\n",
       "q_1: ──■──┤ X ├─░─┤ X ├──■──┤ X ├┤ X ├─░──────────────────────░────────────────»\n",
       "       │  └─┬─┘ ░ └───┘  │  └───┘└─┬─┘ ░      ┌───┐           ░      ┌───┐     »\n",
       "q_2: ──┼────┼───░────────┼─────────┼───░──────┤ X ├───────────░──────┤ X ├─────»\n",
       "       │    │   ░        │         │   ░ ┌───┐└─┬─┘┌───┐┌───┐ ░      └─┬─┘┌───┐»\n",
       "q_3: ──┼────┼───░────────┼─────────┼───░─┤ X ├──■──┤ X ├┤ X ├─░────────■──┤ X ├»\n",
       "       │    │   ░        │         │   ░ ├───┤  │  └───┘└─┬─┘ ░        │  └─┬─┘»\n",
       "q_4: ──■────■───░────────■─────────■───░─┤ X ├──■─────────■───░────────■────■──»\n",
       "       │    │   ░ ┌───┐  │         │   ░ └───┘  │         │   ░ ┌───┐  │    │  »\n",
       "q_5: ──■────■───░─┤ X ├──■─────────■───░────────■─────────■───░─┤ X ├──■────■──»\n",
       "                ░ └───┘                ░                      ░ └───┘          »\n",
       "«           ░ \n",
       "«q_0: ──────░─\n",
       "«           ░ \n",
       "«q_1: ──────░─\n",
       "«           ░ \n",
       "«q_2: ──────░─\n",
       "«           ░ \n",
       "«q_3: ──────░─\n",
       "«           ░ \n",
       "«q_4: ──────░─\n",
       "«     ┌───┐ ░ \n",
       "«q_5: ┤ X ├─░─\n",
       "«     └───┘ ░ "
      ],
      "text/html": "<pre style=\"word-wrap: normal;white-space: pre;background: #fff0;line-height: 1.1;font-family: &quot;Courier New&quot;,Courier,monospace\">     ┌───┐      ░      ┌───┐           ░                      ░                »\nq_0: ┤ X ├──────░──────┤ X ├───────────░──────────────────────░────────────────»\n     └─┬─┘┌───┐ ░ ┌───┐└─┬─┘┌───┐┌───┐ ░                      ░                »\nq_1: ──■──┤ X ├─░─┤ X ├──■──┤ X ├┤ X ├─░──────────────────────░────────────────»\n       │  └─┬─┘ ░ └───┘  │  └───┘└─┬─┘ ░      ┌───┐           ░      ┌───┐     »\nq_2: ──┼────┼───░────────┼─────────┼───░──────┤ X ├───────────░──────┤ X ├─────»\n       │    │   ░        │         │   ░ ┌───┐└─┬─┘┌───┐┌───┐ ░      └─┬─┘┌───┐»\nq_3: ──┼────┼───░────────┼─────────┼───░─┤ X ├──■──┤ X ├┤ X ├─░────────■──┤ X ├»\n       │    │   ░        │         │   ░ ├───┤  │  └───┘└─┬─┘ ░        │  └─┬─┘»\nq_4: ──■────■───░────────■─────────■───░─┤ X ├──■─────────■───░────────■────■──»\n       │    │   ░ ┌───┐  │         │   ░ └───┘  │         │   ░ ┌───┐  │    │  »\nq_5: ──■────■───░─┤ X ├──■─────────■───░────────■─────────■───░─┤ X ├──■────■──»\n                ░ └───┘                ░                      ░ └───┘          »\n«           ░ \n«q_0: ──────░─\n«           ░ \n«q_1: ──────░─\n«           ░ \n«q_2: ──────░─\n«           ░ \n«q_3: ──────░─\n«           ░ \n«q_4: ──────░─\n«     ┌───┐ ░ \n«q_5: ┤ X ├─░─\n«     └───┘ ░ </pre>"
     },
     "metadata": {},
     "execution_count": 8
    }
   ],
   "source": [
    "from qwalk_circuit import QwalkerGridCircuit\n",
    "from qiskit.tools.visualization import circuit_drawer \n",
    "3\n",
    "qwalk = QwalkerGridCircuit(4, 4, G)\n",
    "counter = qwalk.flip_flop()\n",
    "circuit_drawer(counter)\n"
   ]
  },
  {
   "cell_type": "code",
   "execution_count": 9,
   "metadata": {},
   "outputs": [
    {
     "output_type": "execute_result",
     "data": {
      "text/plain": [
       "                                    ░ \n",
       "q_0: ────■─────────o─────────■──────░─\n",
       "         │         │         │      ░ \n",
       "q_1: ────o─────────■─────────■──────░─\n",
       "         │         │         │      ░ \n",
       "q_2: ────o─────────■─────────■──────░─\n",
       "         │         │         │      ░ \n",
       "q_3: ────■─────────■─────────■──────░─\n",
       "     ┌───┴────┐┌───┴────┐┌───┴────┐ ░ \n",
       "q_4: ┤0       ├┤0       ├┤0       ├─░─\n",
       "     │  CoinH ││  CoinG ││  CoinT │ ░ \n",
       "q_5: ┤1       ├┤1       ├┤1       ├─░─\n",
       "     └────────┘└────────┘└────────┘ ░ "
      ],
      "text/html": "<pre style=\"word-wrap: normal;white-space: pre;background: #fff0;line-height: 1.1;font-family: &quot;Courier New&quot;,Courier,monospace\">                                    ░ \nq_0: ────■─────────o─────────■──────░─\n         │         │         │      ░ \nq_1: ────o─────────■─────────■──────░─\n         │         │         │      ░ \nq_2: ────o─────────■─────────■──────░─\n         │         │         │      ░ \nq_3: ────■─────────■─────────■──────░─\n     ┌───┴────┐┌───┴────┐┌───┴────┐ ░ \nq_4: ┤0       ├┤0       ├┤0       ├─░─\n     │  CoinH ││  CoinG ││  CoinT │ ░ \nq_5: ┤1       ├┤1       ├┤1       ├─░─\n     └────────┘└────────┘└────────┘ ░ </pre>"
     },
     "metadata": {},
     "execution_count": 9
    }
   ],
   "source": [
    "vertex_coins = {'1001': \"H\", '1110': 'G', \"1111\": \"rand\"}\n",
    "coin = qwalk.coin(vertex_coins)\n",
    "circuit_drawer(coin)"
   ]
  },
  {
   "cell_type": "code",
   "execution_count": 10,
   "metadata": {},
   "outputs": [
    {
     "output_type": "execute_result",
     "data": {
      "text/plain": [
       "     ┌─────┐┌─────┐┌─────┐┌─────┐┌─────┐┌─────┐\n",
       "q_0: ┤0    ├┤0    ├┤0    ├┤0    ├┤0    ├┤0    ├\n",
       "     │     ││     ││     ││     ││     ││     │\n",
       "q_1: ┤1    ├┤1    ├┤1    ├┤1    ├┤1    ├┤1    ├\n",
       "     │     ││     ││     ││     ││     ││     │\n",
       "q_2: ┤2    ├┤2    ├┤2    ├┤2    ├┤2    ├┤2    ├\n",
       "     │  SC ││  SC ││  SC ││  SC ││  SC ││  SC │\n",
       "q_3: ┤3    ├┤3    ├┤3    ├┤3    ├┤3    ├┤3    ├\n",
       "     │     ││     ││     ││     ││     ││     │\n",
       "q_4: ┤4    ├┤4    ├┤4    ├┤4    ├┤4    ├┤4    ├\n",
       "     │     ││     ││     ││     ││     ││     │\n",
       "q_5: ┤5    ├┤5    ├┤5    ├┤5    ├┤5    ├┤5    ├\n",
       "     └─────┘└─────┘└─────┘└─────┘└─────┘└─────┘"
      ],
      "text/html": "<pre style=\"word-wrap: normal;white-space: pre;background: #fff0;line-height: 1.1;font-family: &quot;Courier New&quot;,Courier,monospace\">     ┌─────┐┌─────┐┌─────┐┌─────┐┌─────┐┌─────┐\nq_0: ┤0    ├┤0    ├┤0    ├┤0    ├┤0    ├┤0    ├\n     │     ││     ││     ││     ││     ││     │\nq_1: ┤1    ├┤1    ├┤1    ├┤1    ├┤1    ├┤1    ├\n     │     ││     ││     ││     ││     ││     │\nq_2: ┤2    ├┤2    ├┤2    ├┤2    ├┤2    ├┤2    ├\n     │  SC ││  SC ││  SC ││  SC ││  SC ││  SC │\nq_3: ┤3    ├┤3    ├┤3    ├┤3    ├┤3    ├┤3    ├\n     │     ││     ││     ││     ││     ││     │\nq_4: ┤4    ├┤4    ├┤4    ├┤4    ├┤4    ├┤4    ├\n     │     ││     ││     ││     ││     ││     │\nq_5: ┤5    ├┤5    ├┤5    ├┤5    ├┤5    ├┤5    ├\n     └─────┘└─────┘└─────┘└─────┘└─────┘└─────┘</pre>"
     },
     "metadata": {},
     "execution_count": 10
    }
   ],
   "source": [
    "qwalk.build_evolution_operator(vertex_coins)\n",
    "T = 6\n",
    "circuit = qwalk.evolve(T)\n",
    "circuit_drawer(circuit)"
   ]
  },
  {
   "cell_type": "code",
   "execution_count": 11,
   "metadata": {},
   "outputs": [
    {
     "output_type": "error",
     "ename": "AttributeError",
     "evalue": "'QwalkerGridCircuit' object has no attribute 'compile_and_run'",
     "traceback": [
      "\u001b[0;31m---------------------------------------------------------------------------\u001b[0m",
      "\u001b[0;31mAttributeError\u001b[0m                            Traceback (most recent call last)",
      "\u001b[0;32m<ipython-input-11-116e3c533076>\u001b[0m in \u001b[0;36m<module>\u001b[0;34m\u001b[0m\n\u001b[0;32m----> 1\u001b[0;31m \u001b[0mqwalk\u001b[0m\u001b[0;34m.\u001b[0m\u001b[0mcompile_and_run\u001b[0m\u001b[0;34m(\u001b[0m\u001b[0;34m)\u001b[0m\u001b[0;34m\u001b[0m\u001b[0;34m\u001b[0m\u001b[0m\n\u001b[0m",
      "\u001b[0;31mAttributeError\u001b[0m: 'QwalkerGridCircuit' object has no attribute 'compile_and_run'"
     ]
    }
   ],
   "source": [
    "qwalk.compile_and_run(T)"
   ]
  }
 ],
 "metadata": {
  "kernelspec": {
   "name": "Python 3.9.1 64-bit",
   "display_name": "Python 3.9.1 64-bit",
   "metadata": {
    "interpreter": {
     "hash": "767d51c1340bd893661ea55ea3124f6de3c7a262a8b4abca0554b478b1e2ff90"
    }
   }
  },
  "language_info": {
   "codemirror_mode": {
    "name": "ipython",
    "version": 3
   },
   "file_extension": ".py",
   "mimetype": "text/x-python",
   "name": "python",
   "nbconvert_exporter": "python",
   "pygments_lexer": "ipython3",
   "version": "3.9.1-final"
  }
 },
 "nbformat": 4,
 "nbformat_minor": 4
}